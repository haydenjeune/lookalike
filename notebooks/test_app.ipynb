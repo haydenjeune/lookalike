{
 "cells": [
  {
   "cell_type": "code",
   "execution_count": null,
   "id": "awful-receiver",
   "metadata": {},
   "outputs": [],
   "source": [
    "import os\n",
    "import sys\n",
    "from pathlib import Path\n",
    "\n",
    "# patch python path with root repo directory\n",
    "sys.path.append(str(Path(os.getcwd()).parent))\n",
    "\n",
    "import base64\n",
    "import io\n",
    "import math\n",
    "\n",
    "from IPython.display import HTML\n",
    "from PIL import Image\n",
    "import numpy as np\n",
    "import matplotlib.pyplot as plt\n",
    "\n",
    "from src.index.storage import VectorIndex\n",
    "from src.image.storage import LocalImageStorage\n",
    "from src.index.builder import FaceNetPyTorchImageVectoriser"
   ]
  },
  {
   "cell_type": "code",
   "execution_count": null,
   "id": "suspected-south",
   "metadata": {},
   "outputs": [],
   "source": [
    "plt.rcParams['figure.figsize'] = [16, 8]"
   ]
  },
  {
   "cell_type": "code",
   "execution_count": null,
   "id": "alternative-treasure",
   "metadata": {},
   "outputs": [],
   "source": [
    "storage_path = \"/Users/hayden.jeune/.celebstore\"\n",
    "image_storage = LocalImageStorage(storage_path + \"/images\")\n",
    "index = VectorIndex(storage_path + \"/vec\")\n",
    "vectoriser = FaceNetPyTorchImageVectoriser()"
   ]
  },
  {
   "cell_type": "code",
   "execution_count": null,
   "id": "talented-connection",
   "metadata": {},
   "outputs": [],
   "source": [
    "def similarity(a: np.ndarray, b: np.ndarray) -> float:\n",
    "    # just a dot product scaled between 0 and 1 for now\n",
    "    return (np.dot(a, b) + 1) / 2\n",
    "\n",
    "def get_lookalikes(image: Image.Image, n=5):\n",
    "    me_vec = vectoriser.vectorise(image)\n",
    "\n",
    "    def get_similarity(items) -> float:\n",
    "        vec = items[1]\n",
    "        return similarity(me_vec, vec)\n",
    "\n",
    "    # need to sort out the dependency on the internals of\n",
    "    items = sorted(index._vectors.items(), key=get_similarity, reverse=True)\n",
    "    \n",
    "    return [(name, image_storage.retrieve(name, \"0\"), similarity(me_vec, vec)) for name, vec in items[:n]]"
   ]
  },
  {
   "cell_type": "code",
   "execution_count": null,
   "id": "empty-attack",
   "metadata": {},
   "outputs": [],
   "source": [
    "# HUGE thanks to https://colbrydi.github.io/accessing-a-computers-camera-inside-of-jupyter-without-installing-opencv-also-works-in-jupyterhub.html\n",
    "# for this code snippet\n",
    "\n",
    "\n",
    "from PIL import Image\n",
    "\n",
    "\n",
    "main_text = \"\"\"\n",
    "<video id=\"video\" width=\"560\" height=\"420\" autoplay></video>\n",
    "<button id=\"snap\">Snap Photo</button>\n",
    "<canvas id=\"canvas\" width=\"560\" height=\"420\"></canvas>\n",
    "\n",
    "<script>\n",
    "// Grab elements, create settings, etc.\n",
    "var video = document.getElementById('video');\n",
    "\n",
    "// Get access to the camera!\n",
    "if(navigator.mediaDevices && navigator.mediaDevices.getUserMedia) {\n",
    "    // Not adding `{ audio: true }` since we only want video now\n",
    "    navigator.mediaDevices.getUserMedia({ video: true }).then(function(stream) {\n",
    "        //video.src = window.URL.createObjectURL(stream);\n",
    "        //video.play();\n",
    "        video.srcObject=stream;\n",
    "        video.play();\n",
    "    });\n",
    "}\n",
    "\n",
    "// Elements for taking the snapshot\n",
    "var canvas = document.getElementById('canvas');\n",
    "var context = canvas.getContext('2d');\n",
    "var video = document.getElementById('video');\n",
    "\n",
    "// Trigger photo take\n",
    "document.getElementById(\"snap\").addEventListener(\"click\", function() {\n",
    "\tcontext.drawImage(video, 0, 0, 560, 420);\n",
    "    var myCanvas = document.getElementById('canvas');\n",
    "    var image = myCanvas.toDataURL(\"image/png\");\n",
    "    IPython.notebook.kernel.execute(\"print('testing')\")\n",
    "    IPython.notebook.kernel.execute(\"image = '\" + image + \"'\")\n",
    "});\n",
    "</script>\n",
    "\n",
    "\"\"\"\n",
    "\n",
    "def get_current_image() -> Image.Image:\n",
    "    return Image.open(io.BytesIO(base64.b64decode(image.split(',')[1]))).convert(\"RGB\")\n",
    "\n",
    "HTML(main_text)"
   ]
  },
  {
   "cell_type": "code",
   "execution_count": null,
   "id": "rubber-worst",
   "metadata": {},
   "outputs": [],
   "source": [
    "user_image = get_current_image()\n",
    "results = get_lookalikes(user_image, n=1)\n",
    "name, img, sim = results[0]\n",
    "\n",
    "fig, axs = plt.subplots(1, 2)\n",
    "\n",
    "axs[0].axis(\"off\")\n",
    "axs[0].imshow(user_image)\n",
    "\n",
    "axs[1].axis(\"off\")\n",
    "axs[1].set_title(f\"{name} ({sim:.2f})\")\n",
    "axs[1].imshow(img)"
   ]
  },
  {
   "cell_type": "code",
   "execution_count": null,
   "id": "cleared-skiing",
   "metadata": {},
   "outputs": [],
   "source": [
    "user_image = get_current_image()\n",
    "results = get_lookalikes(user_image, n=4)\n",
    "\n",
    "fig=plt.figure(figsize=(16,8))\n",
    "grid = plt.GridSpec(2, 4, wspace=0, hspace=0.1)\n",
    "\n",
    "ax = plt.subplot(grid[0:2, 0:2])\n",
    "ax.axis(\"off\")\n",
    "ax.imshow(user_image)\n",
    "\n",
    "start_col = 2\n",
    "width = 2\n",
    "height = 2\n",
    "\n",
    "assert len(results) <= width * height\n",
    "\n",
    "for i, (name, image, sim) in enumerate(results):\n",
    "    col = start_col + i % width\n",
    "    row = math.floor(i / width)\n",
    "    \n",
    "    ax = plt.subplot(grid[row, col])\n",
    "    ax.axis(\"off\")\n",
    "    ax.set_title(name)\n",
    "    ax.imshow(image)"
   ]
  },
  {
   "cell_type": "code",
   "execution_count": null,
   "id": "manufactured-prototype",
   "metadata": {},
   "outputs": [],
   "source": []
  },
  {
   "cell_type": "code",
   "execution_count": null,
   "id": "distinct-interview",
   "metadata": {},
   "outputs": [],
   "source": []
  }
 ],
 "metadata": {
  "kernelspec": {
   "display_name": ".venv",
   "language": "python",
   "name": ".venv"
  },
  "language_info": {
   "codemirror_mode": {
    "name": "ipython",
    "version": 3
   },
   "file_extension": ".py",
   "mimetype": "text/x-python",
   "name": "python",
   "nbconvert_exporter": "python",
   "pygments_lexer": "ipython3",
   "version": "3.9.2"
  }
 },
 "nbformat": 4,
 "nbformat_minor": 5
}